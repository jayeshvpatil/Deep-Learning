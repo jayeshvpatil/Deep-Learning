{
 "cells": [
  {
   "cell_type": "markdown",
   "metadata": {},
   "source": [
    "# Skip-gram word2vec\n",
    "\n",
    "In this notebook, I'll lead you through using TensorFlow to implement the word2vec algorithm using the skip-gram architecture. By implementing this, you'll learn about embedding words for use in natural language processing. This will come in handy when dealing with things like machine translation.\n",
    "\n",
    "## Readings\n",
    "\n",
    "Here are the resources I used to build this notebook. I suggest reading these either beforehand or while you're working on this material.\n",
    "\n",
    "* A really good [conceptual overview](http://mccormickml.com/2016/04/19/word2vec-tutorial-the-skip-gram-model/) of word2vec from Chris McCormick \n",
    "* [First word2vec paper](https://arxiv.org/pdf/1301.3781.pdf) from Mikolov et al.\n",
    "* [NIPS paper](http://papers.nips.cc/paper/5021-distributed-representations-of-words-and-phrases-and-their-compositionality.pdf) with improvements for word2vec also from Mikolov et al.\n",
    "* An [implementation of word2vec](http://www.thushv.com/natural_language_processing/word2vec-part-1-nlp-with-deep-learning-with-tensorflow-skip-gram/) from Thushan Ganegedara\n",
    "* TensorFlow [word2vec tutorial](https://www.tensorflow.org/tutorials/word2vec)\n",
    "\n",
    "## Word embeddings\n",
    "\n",
    "When you're dealing with words in text, you end up with tens of thousands of classes to predict, one for each word. Trying to one-hot encode these words is massively inefficient, you'll have one element set to 1 and the other 50,000 set to 0. The matrix multiplication going into the first hidden layer will have almost all of the resulting values be zero. This a huge waste of computation. \n",
    "\n",
    "![one-hot encodings](assets/one_hot_encoding.png)\n",
    "\n",
    "To solve this problem and greatly increase the efficiency of our networks, we use what are called embeddings. Embeddings are just a fully connected layer like you've seen before. We call this layer the embedding layer and the weights are embedding weights. We skip the multiplication into the embedding layer by instead directly grabbing the hidden layer values from the weight matrix. We can do this because the multiplication of a one-hot encoded vector with a matrix returns the row of the matrix corresponding the index of the \"on\" input unit.\n",
    "\n",
    "![lookup](assets/lookup_matrix.png)\n",
    "\n",
    "Instead of doing the matrix multiplication, we use the weight matrix as a lookup table. We encode the words as integers, for example \"heart\" is encoded as 958, \"mind\" as 18094. Then to get hidden layer values for \"heart\", you just take the 958th row of the embedding matrix. This process is called an **embedding lookup** and the number of hidden units is the **embedding dimension**.\n",
    "\n",
    "<img src='assets/tokenize_lookup.png' width=500>\n",
    " \n",
    "There is nothing magical going on here. The embedding lookup table is just a weight matrix. The embedding layer is just a hidden layer. The lookup is just a shortcut for the matrix multiplication. The lookup table is trained just like any weight matrix as well.\n",
    "\n",
    "Embeddings aren't only used for words of course. You can use them for any model where you have a massive number of classes. A particular type of model called **Word2Vec** uses the embedding layer to find vector representations of words that contain semantic meaning.\n",
    "\n"
   ]
  },
  {
   "cell_type": "markdown",
   "metadata": {},
   "source": [
    "## Word2Vec\n",
    "\n",
    "The word2vec algorithm finds much more efficient representations by finding vectors that represent the words. These vectors also contain semantic information about the words. Words that show up in similar contexts, such as \"black\", \"white\", and \"red\" will have vectors near each other. There are two architectures for implementing word2vec, CBOW (Continuous Bag-Of-Words) and Skip-gram.\n",
    "\n",
    "<img src=\"assets/word2vec_architectures.png\" width=\"500\">\n",
    "\n",
    "In this implementation, we'll be using the skip-gram architecture because it performs better than CBOW. Here, we pass in a word and try to predict the words surrounding it in the text. In this way, we can train the network to learn representations for words that show up in similar contexts.\n",
    "\n",
    "First up, importing packages."
   ]
  },
  {
   "cell_type": "code",
   "execution_count": 1,
   "metadata": {
    "collapsed": true
   },
   "outputs": [],
   "source": [
    "import time\n",
    "\n",
    "import numpy as np\n",
    "import tensorflow as tf\n",
    "\n",
    "import utils"
   ]
  },
  {
   "cell_type": "markdown",
   "metadata": {},
   "source": [
    "Load the [text8 dataset](http://mattmahoney.net/dc/textdata.html), a file of cleaned up Wikipedia articles from Matt Mahoney. The next cell will download the data set to the `data` folder. Then you can extract it and delete the archive file to save storage space."
   ]
  },
  {
   "cell_type": "code",
   "execution_count": 2,
   "metadata": {},
   "outputs": [
    {
     "name": "stderr",
     "output_type": "stream",
     "text": [
      "Text8 Dataset: 31.4MB [00:11, 2.67MB/s]                            \n"
     ]
    }
   ],
   "source": [
    "from urllib.request import urlretrieve\n",
    "from os.path import isfile, isdir\n",
    "from tqdm import tqdm\n",
    "import zipfile\n",
    "\n",
    "dataset_folder_path = 'data'\n",
    "dataset_filename = 'text8.zip'\n",
    "dataset_name = 'Text8 Dataset'\n",
    "\n",
    "class DLProgress(tqdm):\n",
    "    last_block = 0\n",
    "\n",
    "    def hook(self, block_num=1, block_size=1, total_size=None):\n",
    "        self.total = total_size\n",
    "        self.update((block_num - self.last_block) * block_size)\n",
    "        self.last_block = block_num\n",
    "\n",
    "if not isfile(dataset_filename):\n",
    "    with DLProgress(unit='B', unit_scale=True, miniters=1, desc=dataset_name) as pbar:\n",
    "        urlretrieve(\n",
    "            'http://mattmahoney.net/dc/text8.zip',\n",
    "            dataset_filename,\n",
    "            pbar.hook)\n",
    "\n",
    "if not isdir(dataset_folder_path):\n",
    "    with zipfile.ZipFile(dataset_filename) as zip_ref:\n",
    "        zip_ref.extractall(dataset_folder_path)\n",
    "        \n",
    "with open('data/text8') as f:\n",
    "    text = f.read()"
   ]
  },
  {
   "cell_type": "markdown",
   "metadata": {},
   "source": [
    "## Preprocessing\n",
    "\n",
    "Here I'm fixing up the text to make training easier. This comes from the `utils` module I wrote. The `preprocess` function coverts any punctuation into tokens, so a period is changed to ` <PERIOD> `. In this data set, there aren't any periods, but it will help in other NLP problems. I'm also removing all words that show up five or fewer times in the dataset. This will greatly reduce issues due to noise in the data and improve the quality of the vector representations. If you want to write your own functions for this stuff, go for it."
   ]
  },
  {
   "cell_type": "code",
   "execution_count": 4,
   "metadata": {},
   "outputs": [
    {
     "name": "stdout",
     "output_type": "stream",
     "text": [
      "['anarchism', 'originated', 'as', 'a', 'term', 'of', 'abuse', 'first', 'used', 'against', 'early', 'working', 'class', 'radicals', 'including', 'the', 'diggers', 'of', 'the', 'english', 'revolution', 'and', 'the', 'sans', 'culottes', 'of', 'the', 'french', 'revolution', 'whilst']\n"
     ]
    }
   ],
   "source": [
    "words = utils.preprocess(text)\n",
    "print(words[:30])"
   ]
  },
  {
   "cell_type": "code",
   "execution_count": 5,
   "metadata": {},
   "outputs": [
    {
     "name": "stdout",
     "output_type": "stream",
     "text": [
      "Total words: 16680599\n",
      "Unique words: 63641\n"
     ]
    }
   ],
   "source": [
    "print(\"Total words: {}\".format(len(words)))\n",
    "print(\"Unique words: {}\".format(len(set(words))))"
   ]
  },
  {
   "cell_type": "markdown",
   "metadata": {},
   "source": [
    "And here I'm creating dictionaries to convert words to integers and backwards, integers to words. The integers are assigned in descending frequency order, so the most frequent word (\"the\") is given the integer 0 and the next most frequent is 1 and so on. The words are converted to integers and stored in the list `int_words`."
   ]
  },
  {
   "cell_type": "code",
   "execution_count": 21,
   "metadata": {},
   "outputs": [
    {
     "name": "stdout",
     "output_type": "stream",
     "text": [
      "[5233, 3080, 11, 5, 194, 1, 3133, 45, 58, 155, 127, 741, 476, 10571, 133, 0, 27349, 1, 0, 102, 854, 2, 0, 15067, 58112, 1, 0, 150, 854, 3580]\n"
     ]
    }
   ],
   "source": [
    "vocab_to_int, int_to_vocab = utils.create_lookup_tables(words)\n",
    "int_words = [vocab_to_int[word] for word in words]\n",
    "print(int_words[:30])\n"
   ]
  },
  {
   "cell_type": "markdown",
   "metadata": {},
   "source": [
    "## Subsampling\n",
    "\n",
    "Words that show up often such as \"the\", \"of\", and \"for\" don't provide much context to the nearby words. If we discard some of them, we can remove some of the noise from our data and in return get faster training and better representations. This process is called subsampling by Mikolov. For each word $w_i$ in the training set, we'll discard it with probability given by \n",
    "\n",
    "$$ P(w_i) = 1 - \\sqrt{\\frac{t}{f(w_i)}} $$\n",
    "\n",
    "where $t$ is a threshold parameter and $f(w_i)$ is the frequency of word $w_i$ in the total dataset.\n",
    "\n",
    "I'm going to leave this up to you as an exercise. This is more of a programming challenge, than about deep learning specifically. But, being able to prepare your data for your network is an important skill to have. Check out my solution to see how I did it.\n",
    "\n",
    "> **Exercise:** Implement subsampling for the words in `int_words`. That is, go through `int_words` and discard each word given the probablility $P(w_i)$ shown above. Note that $P(w_i)$ is the probability that a word is discarded. Assign the subsampled data to `train_words`."
   ]
  },
  {
   "cell_type": "code",
   "execution_count": 57,
   "metadata": {},
   "outputs": [],
   "source": [
    "## Your code here\n",
    "import math\n",
    "import random\n",
    "from collections import Counter\n",
    "word_cnts= Counter(int_words)\n",
    "total_cnts= len(int_words)\n",
    "word_freq= {word : cnt/total_cnts for word, cnt in word_cnts.items()}\n",
    "\n",
    "#print(word_freq.most_common())\n",
    "\n",
    "t = 0.0001\n",
    "prob_word={}\n",
    "prob_word={word : 1- math.sqrt(t/(word_freq[word])) for word in word_cnts}\n",
    "\n",
    "#print(prob_word)\n",
    "train_words =[word for word in int_words if prob_word[word] < random.random()]\n",
    "\n",
    "\n"
   ]
  },
  {
   "cell_type": "markdown",
   "metadata": {},
   "source": [
    "## Making batches"
   ]
  },
  {
   "cell_type": "markdown",
   "metadata": {},
   "source": [
    "Now that our data is in good shape, we need to get it into the proper form to pass it into our network. With the skip-gram architecture, for each word in the text, we want to grab all the words in a window around that word, with size $C$. \n",
    "\n",
    "From [Mikolov et al.](https://arxiv.org/pdf/1301.3781.pdf): \n",
    "\n",
    "\"Since the more distant words are usually less related to the current word than those close to it, we give less weight to the distant words by sampling less from those words in our training examples... If we choose $C = 5$, for each training word we will select randomly a number $R$ in range $< 1; C >$, and then use $R$ words from history and $R$ words from the future of the current word as correct labels.\"\n",
    "\n",
    "> **Exercise:** Implement a function `get_target` that receives a list of words, an index, and a window size, then returns a list of words in the window around the index. Make sure to use the algorithm described above, where you choose a random number of words from the window."
   ]
  },
  {
   "cell_type": "code",
   "execution_count": 101,
   "metadata": {
    "collapsed": true
   },
   "outputs": [],
   "source": [
    "def get_target(words, idx, window_size=5):\n",
    "    ''' Get a list of words in a window around an index. '''\n",
    "    \n",
    "    # Your code here\n",
    "    R = random.randint(1, window_size+1)\n",
    "    start= idx-R if idx-R>0 else 0\n",
    "    target =set(words[start:idx]+(words[idx:idx+R+1]))\n",
    "    \n",
    "    \n",
    "    return target"
   ]
  },
  {
   "cell_type": "markdown",
   "metadata": {},
   "source": [
    "Here's a function that returns batches for our network. The idea is that it grabs `batch_size` words from a words list. Then for each of those words, it gets the target words in the window. I haven't found a way to pass in a random number of target words and get it to work with the architecture, so I make one row per input-target pair. This is a generator function by the way, helps save memory."
   ]
  },
  {
   "cell_type": "code",
   "execution_count": 102,
   "metadata": {
    "collapsed": true
   },
   "outputs": [],
   "source": [
    "def get_batches(words, batch_size, window_size=5):\n",
    "    ''' Create a generator of word batches as a tuple (inputs, targets) '''\n",
    "    \n",
    "    n_batches = len(words)//batch_size\n",
    "    \n",
    "    # only full batches\n",
    "    words = words[:n_batches*batch_size]\n",
    "    \n",
    "    for idx in range(0, len(words), batch_size):\n",
    "        x, y = [], []\n",
    "        batch = words[idx:idx+batch_size]\n",
    "        for ii in range(len(batch)):\n",
    "            batch_x = batch[ii]\n",
    "            batch_y = get_target(batch, ii, window_size)\n",
    "            y.extend(batch_y)\n",
    "            x.extend([batch_x]*len(batch_y))\n",
    "        yield x, y\n",
    "    "
   ]
  },
  {
   "cell_type": "markdown",
   "metadata": {},
   "source": [
    "## Building the graph\n",
    "\n",
    "From [Chris McCormick's blog](http://mccormickml.com/2016/04/19/word2vec-tutorial-the-skip-gram-model/), we can see the general structure of our network.\n",
    "![embedding_network](./assets/skip_gram_net_arch.png)\n",
    "\n",
    "The input words are passed in as integers. This will go into a hidden layer of linear units, then into a softmax layer. We'll use the softmax layer to make a prediction like normal.\n",
    "\n",
    "The idea here is to train the hidden layer weight matrix to find efficient representations for our words. We can discard the softmax layer becuase we don't really care about making predictions with this network. We just want the embedding matrix so we can use it in other networks we build from the dataset.\n",
    "\n",
    "I'm going to have you build the graph in stages now. First off, creating the `inputs` and `labels` placeholders like normal.\n",
    "\n",
    "> **Exercise:** Assign `inputs` and `labels` using `tf.placeholder`. We're going to be passing in integers, so set the data types to `tf.int32`. The batches we're passing in will have varying sizes, so set the batch sizes to [`None`]. To make things work later, you'll need to set the second dimension of `labels` to `None` or `1`."
   ]
  },
  {
   "cell_type": "code",
   "execution_count": 103,
   "metadata": {},
   "outputs": [],
   "source": [
    "train_graph = tf.Graph()\n",
    "with train_graph.as_default():\n",
    "    inputs = tf.placeholder(tf.int32, shape=[None])\n",
    "    labels = tf.placeholder(tf.int32,shape=[None,None])"
   ]
  },
  {
   "cell_type": "markdown",
   "metadata": {},
   "source": [
    "## Embedding\n",
    "\n"
   ]
  },
  {
   "cell_type": "markdown",
   "metadata": {
    "collapsed": true
   },
   "source": [
    "The embedding matrix has a size of the number of words by the number of units in the hidden layer. So, if you have 10,000 words and 300 hidden units, the matrix will have size $10,000 \\times 300$. Remember that we're using tokenized data for our inputs, usually as integers, where the number of tokens is the number of words in our vocabulary.\n",
    "\n",
    "\n",
    "> **Exercise:** Tensorflow provides a convenient function [`tf.nn.embedding_lookup`](https://www.tensorflow.org/api_docs/python/tf/nn/embedding_lookup) that does this lookup for us. You pass in the embedding matrix and a tensor of integers, then it returns rows in the matrix corresponding to those integers. Below, set the number of embedding features you'll use (200 is a good start), create the embedding matrix variable, and use `tf.nn.embedding_lookup` to get the embedding tensors. For the embedding matrix, I suggest you initialize it with a uniform random numbers between -1 and 1 using [tf.random_uniform](https://www.tensorflow.org/api_docs/python/tf/random_uniform)."
   ]
  },
  {
   "cell_type": "code",
   "execution_count": 104,
   "metadata": {},
   "outputs": [],
   "source": [
    "n_vocab = len(int_to_vocab)\n",
    "n_embedding = 200 # Number of embedding features \n",
    "with train_graph.as_default():\n",
    "    embedding = tf.Variable(tf.random_uniform(shape=(n_vocab,n_embedding),minval=-1,maxval=1))# create embedding weight matrix here\n",
    "    embed = tf.nn.embedding_lookup(embedding,inputs) # use tf.nn.embedding_lookup to get the hidden layer output"
   ]
  },
  {
   "cell_type": "markdown",
   "metadata": {},
   "source": [
    "## Negative sampling\n",
    "\n"
   ]
  },
  {
   "cell_type": "markdown",
   "metadata": {},
   "source": [
    "For every example we give the network, we train it using the output from the softmax layer. That means for each input, we're making very small changes to millions of weights even though we only have one true example. This makes training the network very inefficient. We can approximate the loss from the softmax layer by only updating a small subset of all the weights at once. We'll update the weights for the correct label, but only a small number of incorrect labels. This is called [\"negative sampling\"](http://papers.nips.cc/paper/5021-distributed-representations-of-words-and-phrases-and-their-compositionality.pdf). Tensorflow has a convenient function to do this, [`tf.nn.sampled_softmax_loss`](https://www.tensorflow.org/api_docs/python/tf/nn/sampled_softmax_loss).\n",
    "\n",
    "> **Exercise:** Below, create weights and biases for the softmax layer. Then, use [`tf.nn.sampled_softmax_loss`](https://www.tensorflow.org/api_docs/python/tf/nn/sampled_softmax_loss) to calculate the loss. Be sure to read the documentation to figure out how it works."
   ]
  },
  {
   "cell_type": "code",
   "execution_count": 105,
   "metadata": {
    "collapsed": true
   },
   "outputs": [],
   "source": [
    "# Number of negative labels to sample\n",
    "n_sampled = 100\n",
    "with train_graph.as_default():\n",
    "    softmax_w = tf.Variable(tf.truncated_normal((n_vocab,n_embedding),stddev=0.1))# create softmax weight matrix here\n",
    "    softmax_b = tf.Variable(tf.zeros(n_vocab))# create softmax biases here\n",
    "    \n",
    "    # Calculate the loss using negative sampling\n",
    "    loss = tf.nn.sampled_softmax_loss(softmax_w,softmax_b,labels,embed,n_sampled,n_vocab)\n",
    "    \n",
    "    cost = tf.reduce_mean(loss)\n",
    "    optimizer = tf.train.AdamOptimizer().minimize(cost)"
   ]
  },
  {
   "cell_type": "markdown",
   "metadata": {},
   "source": [
    "## Validation\n",
    "\n",
    "This code is from Thushan Ganegedara's implementation. Here we're going to choose a few common words and few uncommon words. Then, we'll print out the closest words to them. It's a nice way to check that our embedding table is grouping together words with similar semantic meanings."
   ]
  },
  {
   "cell_type": "code",
   "execution_count": 106,
   "metadata": {
    "collapsed": true
   },
   "outputs": [],
   "source": [
    "with train_graph.as_default():\n",
    "    ## From Thushan Ganegedara's implementation\n",
    "    valid_size = 16 # Random set of words to evaluate similarity on.\n",
    "    valid_window = 100\n",
    "    # pick 8 samples from (0,100) and (1000,1100) each ranges. lower id implies more frequent \n",
    "    valid_examples = np.array(random.sample(range(valid_window), valid_size//2))\n",
    "    valid_examples = np.append(valid_examples, \n",
    "                               random.sample(range(1000,1000+valid_window), valid_size//2))\n",
    "\n",
    "    valid_dataset = tf.constant(valid_examples, dtype=tf.int32)\n",
    "    \n",
    "    # We use the cosine distance:\n",
    "    norm = tf.sqrt(tf.reduce_sum(tf.square(embedding), 1, keep_dims=True))\n",
    "    normalized_embedding = embedding / norm\n",
    "    valid_embedding = tf.nn.embedding_lookup(normalized_embedding, valid_dataset)\n",
    "    similarity = tf.matmul(valid_embedding, tf.transpose(normalized_embedding))"
   ]
  },
  {
   "cell_type": "code",
   "execution_count": 107,
   "metadata": {},
   "outputs": [
    {
     "name": "stdout",
     "output_type": "stream",
     "text": [
      "mkdir: checkpoints: File exists\r\n"
     ]
    }
   ],
   "source": [
    "# If the checkpoints directory doesn't exist:\n",
    "!mkdir checkpoints"
   ]
  },
  {
   "cell_type": "markdown",
   "metadata": {},
   "source": [
    "## Training\n",
    "\n",
    "Below is the code to train the network. Every 100 batches it reports the training loss. Every 1000 batches, it'll print out the validation words."
   ]
  },
  {
   "cell_type": "code",
   "execution_count": null,
   "metadata": {},
   "outputs": [
    {
     "name": "stdout",
     "output_type": "stream",
     "text": [
      "Epoch 1/2 Iteration: 100 Avg. Training loss: 6.3928 0.5020 sec/batch\n",
      "Epoch 1/2 Iteration: 200 Avg. Training loss: 6.2754 0.4549 sec/batch\n",
      "Epoch 1/2 Iteration: 300 Avg. Training loss: 6.1275 0.4659 sec/batch\n",
      "Epoch 1/2 Iteration: 400 Avg. Training loss: 6.0345 0.4207 sec/batch\n",
      "Epoch 1/2 Iteration: 500 Avg. Training loss: 5.8997 0.4809 sec/batch\n",
      "Epoch 1/2 Iteration: 600 Avg. Training loss: 5.7862 0.4816 sec/batch\n",
      "Epoch 1/2 Iteration: 700 Avg. Training loss: 5.7485 0.4373 sec/batch\n",
      "Epoch 1/2 Iteration: 800 Avg. Training loss: 5.5339 0.4597 sec/batch\n",
      "Epoch 1/2 Iteration: 900 Avg. Training loss: 5.3879 0.4488 sec/batch\n",
      "Epoch 1/2 Iteration: 1000 Avg. Training loss: 5.2653 0.4316 sec/batch\n",
      "Nearest to on: karen, from, biodiversity, tapwave, compagnie, winsor, african, homage,\n",
      "Nearest to for: elected, died, terms, minor, zero, association, every, shortage,\n",
      "Nearest to into: sick, clarify, reflex, derivable, solo, agree, implementations, hecht,\n",
      "Nearest to system: expression, arrowbile, organized, another, instruction, espionage, c, station,\n",
      "Nearest to s: twice, riverbeds, calvary, worth, white, vetoed, civilisation, zero,\n",
      "Nearest to over: distinguished, half, lex, dilate, herz, proposition, rebounding, concordance,\n",
      "Nearest to been: flesh, run, activation, advocate, p, norma, network, greeted,\n",
      "Nearest to where: non, gifts, leading, saunderson, journey, within, khazars, rivers,\n",
      "Nearest to construction: redress, birthright, ordered, psychotic, hamish, reservation, other, lebesgue,\n",
      "Nearest to file: databank, except, adas, versions, preying, leipzig, indivisible, spirits,\n",
      "Nearest to assembly: plutonium, greenpeace, printings, strangle, cyprian, pipers, prog, twenty,\n",
      "Nearest to police: quirks, retribution, lensman, lawless, calw, collapsed, downstream, usaid,\n",
      "Nearest to operations: can, puf, heer, efficiency, vaughan, plainly, commando, brecht,\n",
      "Nearest to resources: conn, quarrel, general, vba, overwhelming, glu, sunshine, propelled,\n",
      "Nearest to nobel: tier, outline, mandarin, vanish, editor, cliffhanger, bolsters, attempting,\n",
      "Nearest to stage: went, xin, siu, curtain, starred, postmillennialism, armin, wanted,\n",
      "Epoch 1/2 Iteration: 1100 Avg. Training loss: 5.1271 0.4605 sec/batch\n",
      "Epoch 1/2 Iteration: 1200 Avg. Training loss: 5.0526 0.4794 sec/batch\n",
      "Epoch 1/2 Iteration: 1300 Avg. Training loss: 4.9368 0.5061 sec/batch\n",
      "Epoch 1/2 Iteration: 1400 Avg. Training loss: 4.9246 0.4857 sec/batch\n",
      "Epoch 1/2 Iteration: 1500 Avg. Training loss: 4.8525 0.4855 sec/batch\n",
      "Epoch 1/2 Iteration: 1600 Avg. Training loss: 4.7748 0.4566 sec/batch\n",
      "Epoch 1/2 Iteration: 1700 Avg. Training loss: 4.7618 0.4815 sec/batch\n",
      "Epoch 1/2 Iteration: 1800 Avg. Training loss: 4.7497 0.4897 sec/batch\n",
      "Epoch 1/2 Iteration: 1900 Avg. Training loss: 4.7351 0.4359 sec/batch\n",
      "Epoch 1/2 Iteration: 2000 Avg. Training loss: 4.6653 0.4863 sec/batch\n",
      "Nearest to on: biodiversity, karen, compagnie, tapwave, witnessed, asking, african, continue,\n",
      "Nearest to for: minor, elected, shortage, terms, roleplaying, every, gradually, died,\n",
      "Nearest to into: sick, clarify, striking, solo, strategic, banat, reflex, emergence,\n",
      "Nearest to system: station, expression, espionage, organized, disciplines, another, c, arrowbile,\n",
      "Nearest to s: twice, civilisation, riverbeds, vetoed, security, calvary, white, l,\n",
      "Nearest to over: distinguished, half, lex, rejoin, dilate, branch, seconds, concordance,\n",
      "Nearest to been: advocate, flesh, network, activation, greeted, bullshit, norma, eventual,\n",
      "Nearest to where: gifts, non, dressed, saunderson, leading, pierce, combined, rivers,\n",
      "Nearest to construction: redress, weather, ordered, birthright, jeremiah, preceding, reservation, expected,\n",
      "Nearest to file: except, databank, suggest, versions, host, files, markets, indivisible,\n",
      "Nearest to assembly: greenpeace, plutonium, printings, twenty, airplay, broken, agreed, ceo,\n",
      "Nearest to police: retribution, collapsed, downstream, lawless, adds, paradigm, elections, quirks,\n",
      "Nearest to operations: puf, can, efficiency, engels, positive, heer, vaughan, brecht,\n",
      "Nearest to resources: overwhelming, quarrel, conn, vba, general, sunshine, ox, propelled,\n",
      "Nearest to nobel: mandarin, outline, tier, editor, vanish, attempting, bolsters, cliffhanger,\n",
      "Nearest to stage: went, xin, starred, curtain, wanted, siu, campaigning, carved,\n",
      "Epoch 1/2 Iteration: 2100 Avg. Training loss: 4.5960 0.4771 sec/batch\n",
      "Epoch 1/2 Iteration: 2200 Avg. Training loss: 4.6750 0.4921 sec/batch\n",
      "Epoch 1/2 Iteration: 2300 Avg. Training loss: 4.5894 0.4695 sec/batch\n",
      "Epoch 1/2 Iteration: 2400 Avg. Training loss: 4.6401 0.4796 sec/batch\n",
      "Epoch 1/2 Iteration: 2500 Avg. Training loss: 4.6035 0.4453 sec/batch\n",
      "Epoch 1/2 Iteration: 2600 Avg. Training loss: 4.6298 0.4546 sec/batch\n",
      "Epoch 1/2 Iteration: 2700 Avg. Training loss: 4.5915 0.3611 sec/batch\n",
      "Epoch 1/2 Iteration: 2800 Avg. Training loss: 4.5319 0.3666 sec/batch\n",
      "Epoch 1/2 Iteration: 2900 Avg. Training loss: 4.5145 0.3580 sec/batch\n",
      "Epoch 1/2 Iteration: 3000 Avg. Training loss: 4.5405 0.4013 sec/batch\n",
      "Nearest to on: biodiversity, epsilon, compagnie, tapwave, karen, asking, turf, witnessed,\n",
      "Nearest to for: roleplaying, minor, elected, sour, shortage, terms, fund, gradually,\n",
      "Nearest to into: sick, clarify, banat, reflex, conferences, solo, striking, laserdisc,\n",
      "Nearest to system: station, espionage, disciplines, expression, another, protocols, organized, arrowbile,\n",
      "Nearest to s: twice, civilisation, calvary, riverbeds, vetoed, nfl, bronx, white,\n",
      "Nearest to over: distinguished, half, lex, dilate, rejoin, seconds, senator, dumpling,\n",
      "Nearest to been: activation, advocate, bullshit, network, norma, greeted, flesh, ethiopian,\n",
      "Nearest to where: gifts, non, dressed, pierce, saunderson, uganda, leading, sayer,\n",
      "Nearest to construction: redress, weather, lebesgue, birthright, jeremiah, ordered, preceding, reservation,\n",
      "Nearest to file: databank, except, files, suggest, host, versions, spirits, leipzig,\n",
      "Nearest to assembly: plutonium, greenpeace, printings, thirteenth, consultation, manifestation, airplay, prog,\n",
      "Nearest to police: retribution, collapsed, lawless, downstream, quirks, indelible, stimulated, paradigm,\n",
      "Nearest to operations: puf, heer, can, brecht, mamertines, engels, positive, disgraced,\n",
      "Nearest to resources: conn, overwhelming, quarrel, vba, smoothly, sunshine, ox, aids,\n",
      "Nearest to nobel: mandarin, outline, editor, tier, vanish, cobol, cliffhanger, attempting,\n",
      "Nearest to stage: xin, went, curtain, starred, shoreline, postmillennialism, siu, armin,\n",
      "Epoch 1/2 Iteration: 3100 Avg. Training loss: 4.5321 0.4145 sec/batch\n",
      "Epoch 1/2 Iteration: 3200 Avg. Training loss: 4.5149 0.4081 sec/batch\n",
      "Epoch 1/2 Iteration: 3300 Avg. Training loss: 4.5210 0.3817 sec/batch\n",
      "Epoch 1/2 Iteration: 3400 Avg. Training loss: 4.5054 0.3746 sec/batch\n",
      "Epoch 1/2 Iteration: 3500 Avg. Training loss: 4.5124 0.3801 sec/batch\n",
      "Epoch 1/2 Iteration: 3600 Avg. Training loss: 4.4878 0.3869 sec/batch\n",
      "Epoch 1/2 Iteration: 3700 Avg. Training loss: 4.4406 0.3883 sec/batch\n",
      "Epoch 1/2 Iteration: 3800 Avg. Training loss: 4.4125 0.4572 sec/batch\n",
      "Epoch 1/2 Iteration: 3900 Avg. Training loss: 4.4475 0.4007 sec/batch\n",
      "Epoch 1/2 Iteration: 4000 Avg. Training loss: 4.4362 0.3914 sec/batch\n",
      "Nearest to on: biodiversity, karen, epsilon, compagnie, asking, pulses, tapwave, turf,\n",
      "Nearest to for: roleplaying, shortage, sour, elected, minor, gradually, fund, pastry,\n",
      "Nearest to into: sick, banat, clarify, laserdisc, emergence, precambrian, conferences, striking,\n",
      "Nearest to system: protocols, emptying, disciplines, woolwich, another, station, expression, espionage,\n",
      "Nearest to s: civilisation, twice, riverbeds, calvary, nfl, vetoed, white, bronx,\n",
      "Nearest to over: half, distinguished, lex, dilate, rejoin, seconds, senator, dumpling,\n",
      "Nearest to been: activation, advocate, bullshit, has, fsm, ethiopian, cataclysm, prussians,\n",
      "Nearest to where: gifts, dressed, pierce, uganda, non, saunderson, hermitian, compressor,\n",
      "Nearest to construction: redress, sprouted, weather, jeremiah, lebesgue, birthright, ordered, cnts,\n",
      "Nearest to file: databank, except, files, versions, suggest, leipzig, adas, detectable,\n",
      "Nearest to assembly: greenpeace, plutonium, strangle, prog, thirteenth, consultation, printings, manifestation,\n",
      "Nearest to police: retribution, collapsed, lawless, quirks, lensman, indelible, downstream, stimulated,\n",
      "Nearest to operations: puf, can, disgraced, heer, superiors, hewlett, mamertines, compounding,\n",
      "Nearest to resources: conn, quarrel, overwhelming, smoothly, vba, aids, glu, crack,\n",
      "Nearest to nobel: editor, prize, mandarin, outline, d, tier, john, cobol,\n",
      "Nearest to stage: xin, went, starred, curtain, siu, postmillennialism, shoreline, wanted,\n"
     ]
    },
    {
     "name": "stdout",
     "output_type": "stream",
     "text": [
      "Epoch 1/2 Iteration: 4100 Avg. Training loss: 4.4645 0.4223 sec/batch\n",
      "Epoch 1/2 Iteration: 4200 Avg. Training loss: 4.4016 0.3761 sec/batch\n",
      "Epoch 1/2 Iteration: 4300 Avg. Training loss: 4.3995 0.3735 sec/batch\n",
      "Epoch 1/2 Iteration: 4400 Avg. Training loss: 4.4151 0.3780 sec/batch\n",
      "Epoch 1/2 Iteration: 4500 Avg. Training loss: 4.3671 0.3783 sec/batch\n",
      "Epoch 1/2 Iteration: 4600 Avg. Training loss: 4.4204 0.3847 sec/batch\n",
      "Epoch 1/2 Iteration: 4700 Avg. Training loss: 4.3671 0.4141 sec/batch\n",
      "Epoch 1/2 Iteration: 4800 Avg. Training loss: 4.3280 0.4042 sec/batch\n",
      "Epoch 1/2 Iteration: 4900 Avg. Training loss: 4.3909 0.3893 sec/batch\n",
      "Epoch 1/2 Iteration: 5000 Avg. Training loss: 4.3525 0.3795 sec/batch\n",
      "Nearest to on: biodiversity, karen, epsilon, tapwave, interactivity, compagnie, asking, witnessed,\n",
      "Nearest to for: roleplaying, elected, shortage, sour, minor, fund, gradually, pastry,\n",
      "Nearest to into: sick, banat, laserdisc, striking, precambrian, derivable, strategic, dualism,\n",
      "Nearest to system: protocols, operating, emptying, woolwich, station, tvs, espionage, disciplines,\n",
      "Nearest to s: civilisation, riverbeds, twice, calvary, nfl, bor, bronx, classmate,\n",
      "Nearest to over: half, seconds, dilate, distinguished, lex, total, rejoin, dumpling,\n",
      "Nearest to been: has, activation, fsm, advocate, bullshit, cataclysm, phospholipids, attempts,\n",
      "Nearest to where: gifts, scalar, pierce, munchkin, hermitian, steroids, uganda, dressed,\n",
      "Nearest to construction: weather, redress, sprouted, jeremiah, birthright, lebesgue, wood, hamish,\n",
      "Nearest to file: files, databank, versions, windows, detectable, extensions, derisive, except,\n",
      "Nearest to assembly: consultation, greenpeace, prog, strangle, majority, thirteenth, plutonium, manifestation,\n",
      "Nearest to police: collapsed, retribution, lawless, quirks, lensman, officials, indelible, downstream,\n",
      "Nearest to operations: puf, compounding, can, heer, disgraced, cyrix, mamertines, superiors,\n",
      "Nearest to resources: conn, quarrel, overwhelming, vba, insurance, smoothly, gentium, crack,\n",
      "Nearest to nobel: prize, editor, recipient, d, mandarin, outline, physiology, cliffhanger,\n",
      "Nearest to stage: xin, went, starred, curtain, postmillennialism, siu, shoreline, wanted,\n",
      "Epoch 1/2 Iteration: 5100 Avg. Training loss: 4.3804 0.3879 sec/batch\n",
      "Epoch 1/2 Iteration: 5200 Avg. Training loss: 4.3919 0.3959 sec/batch\n",
      "Epoch 1/2 Iteration: 5300 Avg. Training loss: 4.3251 0.3843 sec/batch\n",
      "Epoch 1/2 Iteration: 5400 Avg. Training loss: 4.3483 0.3822 sec/batch\n",
      "Epoch 1/2 Iteration: 5500 Avg. Training loss: 4.3473 0.4087 sec/batch\n",
      "Epoch 1/2 Iteration: 5600 Avg. Training loss: 4.3640 0.3941 sec/batch\n",
      "Epoch 1/2 Iteration: 5700 Avg. Training loss: 4.3422 0.3788 sec/batch\n",
      "Epoch 1/2 Iteration: 5800 Avg. Training loss: 4.3420 0.3869 sec/batch\n",
      "Epoch 1/2 Iteration: 5900 Avg. Training loss: 4.2619 0.3805 sec/batch\n",
      "Epoch 1/2 Iteration: 6000 Avg. Training loss: 4.2912 0.4114 sec/batch\n",
      "Nearest to on: biodiversity, compagnie, interactivity, karen, carbonated, enemy, var, asking,\n",
      "Nearest to for: roleplaying, elected, fund, shortage, pastry, minor, sour, reversals,\n",
      "Nearest to into: sick, banat, precambrian, emergence, striking, strategic, dualism, laserdisc,\n",
      "Nearest to system: protocols, operating, woolwich, emptying, tvs, systems, station, espionage,\n",
      "Nearest to s: civilisation, riverbeds, twice, bor, calvary, bronx, vetoed, reheating,\n",
      "Nearest to over: half, seconds, dilate, lex, distinguished, total, tuyere, delambre,\n",
      "Nearest to been: has, fsm, cataclysm, bullshit, activation, advocate, phospholipids, have,\n",
      "Nearest to where: gifts, scalar, hermitian, munchkin, pierce, dressed, steroids, sayer,\n",
      "Nearest to construction: sprouted, weather, wood, jeremiah, hamish, redress, lebesgue, rayleigh,\n",
      "Nearest to file: files, databank, versions, windows, extensions, detectable, gsm, prohibitively,\n",
      "Nearest to assembly: consultation, greenpeace, prog, strangle, majority, thirteenth, council, printings,\n",
      "Nearest to police: collapsed, retribution, lawless, quirks, officials, collapse, lensman, indelible,\n",
      "Nearest to operations: cyrix, compounding, heer, investigations, superiors, mamertines, disgraced, brecht,\n",
      "Nearest to resources: conn, insurance, vba, quarrel, overwhelming, website, crack, biological,\n",
      "Nearest to nobel: editor, prize, outline, mandarin, cliffhanger, recipient, d, tier,\n",
      "Nearest to stage: xin, starred, went, curtain, postmillennialism, shoreline, siu, armin,\n",
      "Epoch 1/2 Iteration: 6100 Avg. Training loss: 4.2851 0.3844 sec/batch\n",
      "Epoch 1/2 Iteration: 6200 Avg. Training loss: 4.2570 0.3660 sec/batch\n",
      "Epoch 1/2 Iteration: 6300 Avg. Training loss: 4.3289 0.3742 sec/batch\n",
      "Epoch 1/2 Iteration: 6400 Avg. Training loss: 4.2458 0.3933 sec/batch\n",
      "Epoch 1/2 Iteration: 6500 Avg. Training loss: 4.2191 0.3885 sec/batch\n",
      "Epoch 1/2 Iteration: 6600 Avg. Training loss: 4.2927 0.4284 sec/batch\n",
      "Epoch 1/2 Iteration: 6700 Avg. Training loss: 4.3188 0.3886 sec/batch\n",
      "Epoch 1/2 Iteration: 6800 Avg. Training loss: 4.2887 0.4072 sec/batch\n",
      "Epoch 1/2 Iteration: 6900 Avg. Training loss: 4.3831 0.3844 sec/batch\n",
      "Epoch 1/2 Iteration: 7000 Avg. Training loss: 4.3109 0.3758 sec/batch\n",
      "Nearest to on: biodiversity, interactivity, asking, compagnie, foxy, enemy, mecklenburg, epsilon,\n",
      "Nearest to for: elected, roleplaying, fund, datagrams, reversals, shortage, pastry, apg,\n",
      "Nearest to into: banat, precambrian, sick, strategic, striking, dzogchen, obtainable, laserdisc,\n",
      "Nearest to system: protocols, operating, woolwich, tvs, emptying, unwashed, disciplines, another,\n",
      "Nearest to s: civilisation, riverbeds, twice, bronx, bor, reheating, calvary, vetoed,\n",
      "Nearest to over: half, seconds, dilate, total, tuyere, lex, delambre, prospects,\n",
      "Nearest to been: has, fsm, have, bullshit, cataclysm, activation, phospholipids, attempts,\n",
      "Nearest to where: gifts, pierce, scalar, munchkin, hermitian, steroids, dressed, sayer,\n",
      "Nearest to construction: sprouted, weather, rayleigh, hamish, redress, wood, attendants, lebesgue,\n",
      "Nearest to file: files, databank, versions, windows, extensions, format, prohibitively, dos,\n",
      "Nearest to assembly: consultation, majority, council, prog, strangle, greenpeace, judiciary, rmb,\n",
      "Nearest to police: collapsed, retribution, lawless, officials, quirks, lensman, collapse, indelible,\n",
      "Nearest to operations: cyrix, investigations, compounding, mamertines, heer, superiors, anwar, brecht,\n",
      "Nearest to resources: conn, insurance, hydropower, vba, crack, quarrel, incremental, glu,\n",
      "Nearest to nobel: prize, physiology, editor, recipient, d, outline, mandarin, cliffhanger,\n",
      "Nearest to stage: starred, went, xin, curtain, postmillennialism, wanted, shoreline, armin,\n",
      "Epoch 1/2 Iteration: 7100 Avg. Training loss: 4.1974 0.3810 sec/batch\n",
      "Epoch 1/2 Iteration: 7200 Avg. Training loss: 4.2903 0.3833 sec/batch\n",
      "Epoch 1/2 Iteration: 7300 Avg. Training loss: 4.2670 0.3939 sec/batch\n",
      "Epoch 1/2 Iteration: 7400 Avg. Training loss: 4.2601 0.3797 sec/batch\n",
      "Epoch 1/2 Iteration: 7500 Avg. Training loss: 4.2771 0.3829 sec/batch\n",
      "Epoch 1/2 Iteration: 7600 Avg. Training loss: 4.2446 0.3822 sec/batch\n",
      "Epoch 1/2 Iteration: 7700 Avg. Training loss: 4.0748 0.4286 sec/batch\n",
      "Epoch 1/2 Iteration: 7800 Avg. Training loss: 4.2544 0.4154 sec/batch\n",
      "Epoch 1/2 Iteration: 7900 Avg. Training loss: 4.1700 0.4172 sec/batch\n",
      "Epoch 1/2 Iteration: 8000 Avg. Training loss: 4.2324 0.4610 sec/batch\n",
      "Nearest to on: biodiversity, foxy, asking, wildcat, enemy, interactivity, carbonated, compagnie,\n",
      "Nearest to for: elected, roleplaying, fund, apg, datagrams, shortage, reversals, othniel,\n",
      "Nearest to into: banat, sick, striking, obtainable, precambrian, strategic, hilbert, caveat,\n",
      "Nearest to system: operating, protocols, woolwich, tvs, emptying, unwashed, another, systems,\n",
      "Nearest to s: riverbeds, civilisation, reheating, bronx, twice, bor, microbats, sihamoni,\n",
      "Nearest to over: half, dilate, seconds, tuyere, total, lex, prospects, delambre,\n",
      "Nearest to been: has, fsm, have, bullshit, activation, cataclysm, phospholipids, honeydew,\n",
      "Nearest to where: munchkin, hermitian, scalar, steroids, gifts, pierce, dressed, ashmont,\n",
      "Nearest to construction: sprouted, wood, rayleigh, commerce, lebesgue, pancreatic, hamish, weather,\n",
      "Nearest to file: files, versions, databank, format, windows, extensions, dos, mainframe,\n",
      "Nearest to assembly: consultation, majority, judiciary, council, prog, seats, greenpeace, strangle,\n",
      "Nearest to police: collapsed, officials, lawless, retribution, quirks, curonian, protests, lensman,\n",
      "Nearest to operations: cyrix, compounding, investigations, mamertines, superiors, heer, wpm, fujimori,\n",
      "Nearest to resources: conn, hydropower, vba, crack, insurance, quarrel, functionalities, incremental,\n",
      "Nearest to nobel: prize, recipient, physiology, editor, d, outline, cliffhanger, bolsters,\n",
      "Nearest to stage: starred, xin, went, curtain, postmillennialism, siu, wanted, concert,\n"
     ]
    }
   ],
   "source": [
    "epochs = 2\n",
    "batch_size = 1000\n",
    "window_size = 10\n",
    "\n",
    "with train_graph.as_default():\n",
    "    saver = tf.train.Saver()\n",
    "\n",
    "with tf.Session(graph=train_graph) as sess:\n",
    "    iteration = 1\n",
    "    loss = 0\n",
    "    sess.run(tf.global_variables_initializer())\n",
    "\n",
    "    for e in range(1, epochs+1):\n",
    "        batches = get_batches(train_words, batch_size, window_size)\n",
    "        start = time.time()\n",
    "        for x, y in batches:\n",
    "            \n",
    "            feed = {inputs: x,\n",
    "                    labels: np.array(y)[:, None]}\n",
    "            train_loss, _ = sess.run([cost, optimizer], feed_dict=feed)\n",
    "            \n",
    "            loss += train_loss\n",
    "            \n",
    "            if iteration % 100 == 0: \n",
    "                end = time.time()\n",
    "                print(\"Epoch {}/{}\".format(e, epochs),\n",
    "                      \"Iteration: {}\".format(iteration),\n",
    "                      \"Avg. Training loss: {:.4f}\".format(loss/100),\n",
    "                      \"{:.4f} sec/batch\".format((end-start)/100))\n",
    "                loss = 0\n",
    "                start = time.time()\n",
    "            \n",
    "            if iteration % 1000 == 0:\n",
    "                ## From Thushan Ganegedara's implementation\n",
    "                # note that this is expensive (~20% slowdown if computed every 500 steps)\n",
    "                sim = similarity.eval()\n",
    "                for i in range(valid_size):\n",
    "                    valid_word = int_to_vocab[valid_examples[i]]\n",
    "                    top_k = 8 # number of nearest neighbors\n",
    "                    nearest = (-sim[i, :]).argsort()[1:top_k+1]\n",
    "                    log = 'Nearest to %s:' % valid_word\n",
    "                    for k in range(top_k):\n",
    "                        close_word = int_to_vocab[nearest[k]]\n",
    "                        log = '%s %s,' % (log, close_word)\n",
    "                    print(log)\n",
    "            \n",
    "            iteration += 1\n",
    "    save_path = saver.save(sess, \"checkpoints/text8.ckpt\")\n",
    "    embed_mat = sess.run(normalized_embedding)"
   ]
  },
  {
   "cell_type": "markdown",
   "metadata": {},
   "source": [
    "Restore the trained network if you need to:"
   ]
  },
  {
   "cell_type": "code",
   "execution_count": 110,
   "metadata": {},
   "outputs": [
    {
     "name": "stdout",
     "output_type": "stream",
     "text": [
      "INFO:tensorflow:Restoring parameters from None\n"
     ]
    },
    {
     "ename": "SystemError",
     "evalue": "<built-in function TF_Run> returned a result with an error set",
     "output_type": "error",
     "traceback": [
      "\u001b[0;31m---------------------------------------------------------------------------\u001b[0m",
      "\u001b[0;31mTypeError\u001b[0m                                 Traceback (most recent call last)",
      "\u001b[0;31mTypeError\u001b[0m: expected bytes, NoneType found",
      "\nThe above exception was the direct cause of the following exception:\n",
      "\u001b[0;31mSystemError\u001b[0m                               Traceback (most recent call last)",
      "\u001b[0;32m<ipython-input-110-4eeca6a379f0>\u001b[0m in \u001b[0;36m<module>\u001b[0;34m()\u001b[0m\n\u001b[1;32m      3\u001b[0m \u001b[0;34m\u001b[0m\u001b[0m\n\u001b[1;32m      4\u001b[0m \u001b[0;32mwith\u001b[0m \u001b[0mtf\u001b[0m\u001b[0;34m.\u001b[0m\u001b[0mSession\u001b[0m\u001b[0;34m(\u001b[0m\u001b[0mgraph\u001b[0m\u001b[0;34m=\u001b[0m\u001b[0mtrain_graph\u001b[0m\u001b[0;34m)\u001b[0m \u001b[0;32mas\u001b[0m \u001b[0msess\u001b[0m\u001b[0;34m:\u001b[0m\u001b[0;34m\u001b[0m\u001b[0m\n\u001b[0;32m----> 5\u001b[0;31m     \u001b[0msaver\u001b[0m\u001b[0;34m.\u001b[0m\u001b[0mrestore\u001b[0m\u001b[0;34m(\u001b[0m\u001b[0msess\u001b[0m\u001b[0;34m,\u001b[0m \u001b[0mtf\u001b[0m\u001b[0;34m.\u001b[0m\u001b[0mtrain\u001b[0m\u001b[0;34m.\u001b[0m\u001b[0mlatest_checkpoint\u001b[0m\u001b[0;34m(\u001b[0m\u001b[0;34m'checkpoints'\u001b[0m\u001b[0;34m)\u001b[0m\u001b[0;34m)\u001b[0m\u001b[0;34m\u001b[0m\u001b[0m\n\u001b[0m\u001b[1;32m      6\u001b[0m     \u001b[0membed_mat\u001b[0m \u001b[0;34m=\u001b[0m \u001b[0msess\u001b[0m\u001b[0;34m.\u001b[0m\u001b[0mrun\u001b[0m\u001b[0;34m(\u001b[0m\u001b[0membedding\u001b[0m\u001b[0;34m)\u001b[0m\u001b[0;34m\u001b[0m\u001b[0m\n",
      "\u001b[0;32m/anaconda/lib/python3.6/site-packages/tensorflow/python/training/saver.py\u001b[0m in \u001b[0;36mrestore\u001b[0;34m(self, sess, save_path)\u001b[0m\n\u001b[1;32m   1546\u001b[0m     \u001b[0mlogging\u001b[0m\u001b[0;34m.\u001b[0m\u001b[0minfo\u001b[0m\u001b[0;34m(\u001b[0m\u001b[0;34m\"Restoring parameters from %s\"\u001b[0m\u001b[0;34m,\u001b[0m \u001b[0msave_path\u001b[0m\u001b[0;34m)\u001b[0m\u001b[0;34m\u001b[0m\u001b[0m\n\u001b[1;32m   1547\u001b[0m     sess.run(self.saver_def.restore_op_name,\n\u001b[0;32m-> 1548\u001b[0;31m              {self.saver_def.filename_tensor_name: save_path})\n\u001b[0m\u001b[1;32m   1549\u001b[0m \u001b[0;34m\u001b[0m\u001b[0m\n\u001b[1;32m   1550\u001b[0m   \u001b[0;34m@\u001b[0m\u001b[0mstaticmethod\u001b[0m\u001b[0;34m\u001b[0m\u001b[0m\n",
      "\u001b[0;32m/anaconda/lib/python3.6/site-packages/tensorflow/python/client/session.py\u001b[0m in \u001b[0;36mrun\u001b[0;34m(self, fetches, feed_dict, options, run_metadata)\u001b[0m\n\u001b[1;32m    787\u001b[0m     \u001b[0;32mtry\u001b[0m\u001b[0;34m:\u001b[0m\u001b[0;34m\u001b[0m\u001b[0m\n\u001b[1;32m    788\u001b[0m       result = self._run(None, fetches, feed_dict, options_ptr,\n\u001b[0;32m--> 789\u001b[0;31m                          run_metadata_ptr)\n\u001b[0m\u001b[1;32m    790\u001b[0m       \u001b[0;32mif\u001b[0m \u001b[0mrun_metadata\u001b[0m\u001b[0;34m:\u001b[0m\u001b[0;34m\u001b[0m\u001b[0m\n\u001b[1;32m    791\u001b[0m         \u001b[0mproto_data\u001b[0m \u001b[0;34m=\u001b[0m \u001b[0mtf_session\u001b[0m\u001b[0;34m.\u001b[0m\u001b[0mTF_GetBuffer\u001b[0m\u001b[0;34m(\u001b[0m\u001b[0mrun_metadata_ptr\u001b[0m\u001b[0;34m)\u001b[0m\u001b[0;34m\u001b[0m\u001b[0m\n",
      "\u001b[0;32m/anaconda/lib/python3.6/site-packages/tensorflow/python/client/session.py\u001b[0m in \u001b[0;36m_run\u001b[0;34m(self, handle, fetches, feed_dict, options, run_metadata)\u001b[0m\n\u001b[1;32m    995\u001b[0m     \u001b[0;32mif\u001b[0m \u001b[0mfinal_fetches\u001b[0m \u001b[0;32mor\u001b[0m \u001b[0mfinal_targets\u001b[0m\u001b[0;34m:\u001b[0m\u001b[0;34m\u001b[0m\u001b[0m\n\u001b[1;32m    996\u001b[0m       results = self._do_run(handle, final_targets, final_fetches,\n\u001b[0;32m--> 997\u001b[0;31m                              feed_dict_string, options, run_metadata)\n\u001b[0m\u001b[1;32m    998\u001b[0m     \u001b[0;32melse\u001b[0m\u001b[0;34m:\u001b[0m\u001b[0;34m\u001b[0m\u001b[0m\n\u001b[1;32m    999\u001b[0m       \u001b[0mresults\u001b[0m \u001b[0;34m=\u001b[0m \u001b[0;34m[\u001b[0m\u001b[0;34m]\u001b[0m\u001b[0;34m\u001b[0m\u001b[0m\n",
      "\u001b[0;32m/anaconda/lib/python3.6/site-packages/tensorflow/python/client/session.py\u001b[0m in \u001b[0;36m_do_run\u001b[0;34m(self, handle, target_list, fetch_list, feed_dict, options, run_metadata)\u001b[0m\n\u001b[1;32m   1130\u001b[0m     \u001b[0;32mif\u001b[0m \u001b[0mhandle\u001b[0m \u001b[0;32mis\u001b[0m \u001b[0;32mNone\u001b[0m\u001b[0;34m:\u001b[0m\u001b[0;34m\u001b[0m\u001b[0m\n\u001b[1;32m   1131\u001b[0m       return self._do_call(_run_fn, self._session, feed_dict, fetch_list,\n\u001b[0;32m-> 1132\u001b[0;31m                            target_list, options, run_metadata)\n\u001b[0m\u001b[1;32m   1133\u001b[0m     \u001b[0;32melse\u001b[0m\u001b[0;34m:\u001b[0m\u001b[0;34m\u001b[0m\u001b[0m\n\u001b[1;32m   1134\u001b[0m       return self._do_call(_prun_fn, self._session, handle, feed_dict,\n",
      "\u001b[0;32m/anaconda/lib/python3.6/site-packages/tensorflow/python/client/session.py\u001b[0m in \u001b[0;36m_do_call\u001b[0;34m(self, fn, *args)\u001b[0m\n\u001b[1;32m   1137\u001b[0m   \u001b[0;32mdef\u001b[0m \u001b[0m_do_call\u001b[0m\u001b[0;34m(\u001b[0m\u001b[0mself\u001b[0m\u001b[0;34m,\u001b[0m \u001b[0mfn\u001b[0m\u001b[0;34m,\u001b[0m \u001b[0;34m*\u001b[0m\u001b[0margs\u001b[0m\u001b[0;34m)\u001b[0m\u001b[0;34m:\u001b[0m\u001b[0;34m\u001b[0m\u001b[0m\n\u001b[1;32m   1138\u001b[0m     \u001b[0;32mtry\u001b[0m\u001b[0;34m:\u001b[0m\u001b[0;34m\u001b[0m\u001b[0m\n\u001b[0;32m-> 1139\u001b[0;31m       \u001b[0;32mreturn\u001b[0m \u001b[0mfn\u001b[0m\u001b[0;34m(\u001b[0m\u001b[0;34m*\u001b[0m\u001b[0margs\u001b[0m\u001b[0;34m)\u001b[0m\u001b[0;34m\u001b[0m\u001b[0m\n\u001b[0m\u001b[1;32m   1140\u001b[0m     \u001b[0;32mexcept\u001b[0m \u001b[0merrors\u001b[0m\u001b[0;34m.\u001b[0m\u001b[0mOpError\u001b[0m \u001b[0;32mas\u001b[0m \u001b[0me\u001b[0m\u001b[0;34m:\u001b[0m\u001b[0;34m\u001b[0m\u001b[0m\n\u001b[1;32m   1141\u001b[0m       \u001b[0mmessage\u001b[0m \u001b[0;34m=\u001b[0m \u001b[0mcompat\u001b[0m\u001b[0;34m.\u001b[0m\u001b[0mas_text\u001b[0m\u001b[0;34m(\u001b[0m\u001b[0me\u001b[0m\u001b[0;34m.\u001b[0m\u001b[0mmessage\u001b[0m\u001b[0;34m)\u001b[0m\u001b[0;34m\u001b[0m\u001b[0m\n",
      "\u001b[0;32m/anaconda/lib/python3.6/site-packages/tensorflow/python/client/session.py\u001b[0m in \u001b[0;36m_run_fn\u001b[0;34m(session, feed_dict, fetch_list, target_list, options, run_metadata)\u001b[0m\n\u001b[1;32m   1119\u001b[0m         return tf_session.TF_Run(session, options,\n\u001b[1;32m   1120\u001b[0m                                  \u001b[0mfeed_dict\u001b[0m\u001b[0;34m,\u001b[0m \u001b[0mfetch_list\u001b[0m\u001b[0;34m,\u001b[0m \u001b[0mtarget_list\u001b[0m\u001b[0;34m,\u001b[0m\u001b[0;34m\u001b[0m\u001b[0m\n\u001b[0;32m-> 1121\u001b[0;31m                                  status, run_metadata)\n\u001b[0m\u001b[1;32m   1122\u001b[0m \u001b[0;34m\u001b[0m\u001b[0m\n\u001b[1;32m   1123\u001b[0m     \u001b[0;32mdef\u001b[0m \u001b[0m_prun_fn\u001b[0m\u001b[0;34m(\u001b[0m\u001b[0msession\u001b[0m\u001b[0;34m,\u001b[0m \u001b[0mhandle\u001b[0m\u001b[0;34m,\u001b[0m \u001b[0mfeed_dict\u001b[0m\u001b[0;34m,\u001b[0m \u001b[0mfetch_list\u001b[0m\u001b[0;34m)\u001b[0m\u001b[0;34m:\u001b[0m\u001b[0;34m\u001b[0m\u001b[0m\n",
      "\u001b[0;31mSystemError\u001b[0m: <built-in function TF_Run> returned a result with an error set"
     ]
    }
   ],
   "source": [
    "with train_graph.as_default():\n",
    "    saver = tf.train.Saver()\n",
    "\n",
    "with tf.Session(graph=train_graph) as sess:\n",
    "    saver.restore(sess, tf.train.latest_checkpoint('checkpoints'))\n",
    "    embed_mat = sess.run(embedding)"
   ]
  },
  {
   "cell_type": "markdown",
   "metadata": {},
   "source": [
    "## Visualizing the word vectors\n",
    "\n",
    "Below we'll use T-SNE to visualize how our high-dimensional word vectors cluster together. T-SNE is used to project these vectors into two dimensions while preserving local stucture. Check out [this post from Christopher Olah](http://colah.github.io/posts/2014-10-Visualizing-MNIST/) to learn more about T-SNE and other ways to visualize high-dimensional data."
   ]
  },
  {
   "cell_type": "code",
   "execution_count": null,
   "metadata": {
    "collapsed": true
   },
   "outputs": [],
   "source": [
    "%matplotlib inline\n",
    "%config InlineBackend.figure_format = 'retina'\n",
    "\n",
    "import matplotlib.pyplot as plt\n",
    "from sklearn.manifold import TSNE"
   ]
  },
  {
   "cell_type": "code",
   "execution_count": null,
   "metadata": {
    "collapsed": true
   },
   "outputs": [],
   "source": [
    "viz_words = 500\n",
    "tsne = TSNE()\n",
    "embed_tsne = tsne.fit_transform(embed_mat[:viz_words, :])"
   ]
  },
  {
   "cell_type": "code",
   "execution_count": null,
   "metadata": {
    "collapsed": true
   },
   "outputs": [],
   "source": [
    "fig, ax = plt.subplots(figsize=(14, 14))\n",
    "for idx in range(viz_words):\n",
    "    plt.scatter(*embed_tsne[idx, :], color='steelblue')\n",
    "    plt.annotate(int_to_vocab[idx], (embed_tsne[idx, 0], embed_tsne[idx, 1]), alpha=0.7)"
   ]
  },
  {
   "cell_type": "code",
   "execution_count": null,
   "metadata": {
    "collapsed": true
   },
   "outputs": [],
   "source": []
  }
 ],
 "metadata": {
  "kernelspec": {
   "display_name": "Python 3",
   "language": "python",
   "name": "python3"
  },
  "language_info": {
   "codemirror_mode": {
    "name": "ipython",
    "version": 3
   },
   "file_extension": ".py",
   "mimetype": "text/x-python",
   "name": "python",
   "nbconvert_exporter": "python",
   "pygments_lexer": "ipython3",
   "version": "3.6.1"
  }
 },
 "nbformat": 4,
 "nbformat_minor": 2
}
